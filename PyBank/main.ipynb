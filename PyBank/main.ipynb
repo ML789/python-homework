{
 "cells": [
  {
   "cell_type": "markdown",
   "id": "f2e3b020-453d-4c16-8057-0e62aa3cc140",
   "metadata": {},
   "source": [
    "# Financial Analysis of PyBank profit and Loss (PnL)\n",
    "\n",
    "The below code completes a financial analysis on PyBank's profit and loss as captured in the budget_data.csv file provided\n",
    "\n",
    "The output of the code prints the following:\n",
    "\n",
    "- The total number of months included in the dataset\n",
    "\n",
    "- The net total amount of Profit/Losses over the entire period\n",
    "\n",
    "- The average of the changes in Profit/Losses over the entire period\n",
    "\n",
    "- The greatest increase in profits (date and amount) over the entire period\n",
    "\n",
    "- The greatest decrease in losses (date and amount) over the entire period\n",
    "\n",
    "### *Note: the budget_data.csv file must be in the same folder as the main.ipynb file*"
   ]
  },
  {
   "cell_type": "code",
   "execution_count": 1,
   "id": "75f9c1d6-014f-45e4-ac7f-c61442061660",
   "metadata": {},
   "outputs": [],
   "source": [
    "## Import pathlib and CSV librarys\n",
    "\n",
    "from pathlib import Path\n",
    "import csv"
   ]
  },
  {
   "cell_type": "code",
   "execution_count": 2,
   "id": "dadd7940-1345-49fd-8e47-26c2eac1ba79",
   "metadata": {},
   "outputs": [],
   "source": [
    "## SET up primary variables for Financial Analysis\n",
    "\n",
    "# Variable to assess month count \n",
    "total_months = 0\n",
    "# Variable to assess total PnL\n",
    "total_pnl = 0\n",
    "# Variable to assess average PnL change\n",
    "average_change = 0\n",
    "# Dict to record previous month date and value for month to month change record\n",
    "previous_month = {}\n",
    "# Dict to record month to month change in profit and loss dates and values\n",
    "month_to_month_change = {}"
   ]
  },
  {
   "cell_type": "code",
   "execution_count": 3,
   "id": "761da439-100d-4979-bc0b-b70fd4aeb04f",
   "metadata": {
    "tags": []
   },
   "outputs": [],
   "source": [
    "## find location of csv file \"budget_data.csv\" (in same location as python code)\n",
    "\n",
    "# set file directry location to file_path\n",
    "file_path = str(Path.cwd())\n",
    "# set full file location by combining file_path and the file name  \n",
    "csvpath = Path(f\"{str(file_path)}/budget_data.csv\")\n"
   ]
  },
  {
   "cell_type": "code",
   "execution_count": 4,
   "id": "7d6fa127-087c-4055-989a-78978844f95e",
   "metadata": {},
   "outputs": [],
   "source": [
    "## Open & read CSV file, record and assess important data\n",
    "\n",
    "# open csv file \n",
    "with open(csvpath, \"r\") as csvfile:\n",
    "    # read csv file\n",
    "    csvreader = csv.reader(csvfile, delimiter=\",\")\n",
    "    \n",
    "    # Read header, this to avoided the header in the analysis\n",
    "    csv_header = next(csvreader)\n",
    "    \n",
    "    # Read each row in the open csv file and record data\n",
    "    for row in csvreader:\n",
    "        \n",
    "        # count number of months\n",
    "        total_months += 1\n",
    "        # count total profit and loss\n",
    "        total_pnl += int(row[1])\n",
    "\n",
    "        # record the differences between months once the itteration is on the second month\n",
    "        if total_months > 1:\n",
    "            # record month to month change values: date & this month less previous month value\n",
    "            month_to_month_change[previous_month[\"date\"] + \" to \" + row[0]] = int(row[1]) - previous_month[\"pnl_value\"]\n",
    "        \n",
    "        \n",
    "        # update previous_month to this row for referance in the next iteration\n",
    "        previous_month = {\"date\" : row[0], \"pnl_value\" : int(row[1])}\n",
    "        \n",
    "# find the date of the greatest increase in profits from the month_to_month_change dict\n",
    "max_pnl_change_date = max(month_to_month_change, key=month_to_month_change.get)\n",
    "# find the date of the greatest decrease in profits from the month_to_month_change dict\n",
    "min_pnl_change_date = min(month_to_month_change, key=month_to_month_change.get)\n",
    "\n",
    "# calculate average PnL change from final value of total_months and total_PnL\n",
    "average_change = total_pnl/total_months\n"
   ]
  },
  {
   "cell_type": "code",
   "execution_count": 5,
   "id": "260c6457-9e74-477c-8233-4e8dfcef0555",
   "metadata": {},
   "outputs": [
    {
     "name": "stdout",
     "output_type": "stream",
     "text": [
      "Financial Analysis\n",
      "-----------------------------\n",
      "                Total Months : 86\n",
      "                   Total P/L : $ 38382578\n",
      "              Average Change : $ 446309.05\n",
      "Greatest Increase in Profits : Jan-2012 to Feb-2012 ($ 1926159)\n",
      "Greatest Decrease in Profits : Aug-2013 to Sep-2013 ($ -2196167)\n"
     ]
    }
   ],
   "source": [
    "## Print heading of analysis\n",
    "\n",
    "print(\"Financial Analysis\")\n",
    "print(\"-----------------------------\")\n",
    "\n",
    "# Print the total number of months included in the dataset\n",
    "print(f\"                Total Months : {total_months}\")\n",
    "\n",
    "# Print the net total amount of Profit/Losses over the entire period.\n",
    "print(f\"                   Total P/L : $ {total_pnl}\")\n",
    "\n",
    "# Print the average of the changes in Profit/Losses over the entire period (round value to 2 decimal points)\n",
    "print(f\"              Average Change : $ {round(average_change,2)}\")\n",
    "\n",
    "# Print the greatest increase in profits (date and amount) over the entire period.\n",
    "print(f\"Greatest Increase in Profits : {max_pnl_change_date} ($ {month_to_month_change[max_pnl_change_date]})\")\n",
    "\n",
    "# Print the greatest decrease in losses (date and amount) over the entire period.\n",
    "print(f\"Greatest Decrease in Profits : {min_pnl_change_date} ($ {month_to_month_change[min_pnl_change_date]})\")\n"
   ]
  }
 ],
 "metadata": {
  "kernelspec": {
   "display_name": "Python 3 (ipykernel)",
   "language": "python",
   "name": "python3"
  },
  "language_info": {
   "codemirror_mode": {
    "name": "ipython",
    "version": 3
   },
   "file_extension": ".py",
   "mimetype": "text/x-python",
   "name": "python",
   "nbconvert_exporter": "python",
   "pygments_lexer": "ipython3",
   "version": "3.9.7"
  }
 },
 "nbformat": 4,
 "nbformat_minor": 5
}
